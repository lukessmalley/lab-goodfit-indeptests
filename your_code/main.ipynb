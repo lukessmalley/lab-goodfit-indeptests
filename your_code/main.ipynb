{
 "cells": [
  {
   "cell_type": "markdown",
   "metadata": {},
   "source": [
    "## Question 1\n",
    "The following table indicates the number of 6-point scores in an American rugby match in the 1979 season.\n",
    "\n",
    "![](table1.png)\n",
    "\n",
    "Based on these results, we create a Poisson distribution with the sample mean parameter  = 2.435. Is there any reason to believe that at a .05 level the number of scores is a Poisson variable?"
   ]
  },
  {
   "cell_type": "code",
   "execution_count": 3,
   "metadata": {},
   "outputs": [],
   "source": [
    "import scipy\n",
    "import numpy as np\n",
    "import pandas as pd\n",
    "from scipy import stats\n",
    "from scipy.stats import poisson"
   ]
  },
  {
   "cell_type": "code",
   "execution_count": 4,
   "metadata": {},
   "outputs": [
    {
     "name": "stdout",
     "output_type": "stream",
     "text": [
      "Power_divergenceResult(statistic=0.014489532770334417, pvalue=0.9999999972330947)\n"
     ]
    },
    {
     "data": {
      "text/plain": [
       "'Close to 1, suggests no difference between the observed and expected, therefore there is reason to believe that the number of score is a poisson variable'"
      ]
     },
     "execution_count": 4,
     "metadata": {},
     "output_type": "execute_result"
    }
   ],
   "source": [
    "#define size of observed values dataset\n",
    "obs_size = 448 \n",
    "# create array of observed values\n",
    "obs = np.array([35,99,104,110,62,25,10,3])/obs_size \n",
    "# using the mean, we create a poisson distribution of equal length to the obs size\n",
    "exp = np.array([poisson.pmf(i, 2.435) for i in range(7)]) \n",
    "exp = np.append(exp, 1-exp.sum())\n",
    "# we use chi square to compare the observed and expected values \n",
    "print(stats.chisquare(obs,exp))\n",
    "\"\"\"Close to 1, suggests no difference between the observed and expected, therefore there is reason to believe that the number of score is a poisson variable\"\"\""
   ]
  },
  {
   "cell_type": "markdown",
   "metadata": {},
   "source": [
    "## Question 2\n",
    "The following are the ordered values of a random sample of SAT scores (university entrance exam) for several students: 852, 875, 910, 933, 957, 963, 981, 998, 1010, 1015, 1018, 1023, 1035, 1048, 1063. In previous years, the scores were presented by N (985,50). Based on the sample, is there any reason to believe that there has been a change in the distribution of scores this year? Use the level alpha = 0.05. "
   ]
  },
  {
   "cell_type": "code",
   "execution_count": 5,
   "metadata": {},
   "outputs": [
    {
     "data": {
      "text/plain": [
       "KstestResult(statistic=0.1581291279406798, pvalue=0.847406396427736)"
      ]
     },
     "execution_count": 5,
     "metadata": {},
     "output_type": "execute_result"
    }
   ],
   "source": [
    "# create array of observed values\n",
    "obs = np.array([852, 875, 910, 933, 957, 963, 981, 998, 1010, 1015, 1018, 1023, 1035, 1048, 1063])\n",
    "# create expectated values. loc is the mean, scale is the std\n",
    "exp = stats.norm(loc=985, scale=50)\n",
    "stats.kstest(obs, exp.cdf)"
   ]
  },
  {
   "cell_type": "markdown",
   "metadata": {},
   "source": [
    "## Question 3\n",
    "Let's analyze a discrete distribution. To analyze the number of defective items in a factory in the city of Medellín, we took a random sample of n = 60 articles and observed the number of defectives in the following table:\n",
    "\n",
    "![](table4.png)\n",
    "\n",
    "A poissón distribution was proposed since it is defined for x = 0,1,2,3, .... using the following model:\n",
    "\n",
    "![](image1.png)\n",
    "\n",
    "Does the distribution of defective items follow this distribution?"
   ]
  },
  {
   "cell_type": "code",
   "execution_count": 6,
   "metadata": {},
   "outputs": [
    {
     "name": "stdout",
     "output_type": "stream",
     "text": [
      "Power_divergenceResult(statistic=98.53214635507257, pvalue=2.0197203118928622e-20)\n"
     ]
    },
    {
     "data": {
      "text/plain": [
       "'P-value close to 0, so we can reject the null hypothesis'"
      ]
     },
     "execution_count": 6,
     "metadata": {},
     "output_type": "execute_result"
    }
   ],
   "source": [
    "obs_size = 60\n",
    "obs = np.array([32,15,0,9,4])/obs_size\n",
    "exp = np.array([poisson.pmf(i, np.mean(obs)) for i in range(4)]) \n",
    "exp = np.append(exp, 1-exp.sum())\n",
    "print(stats.chisquare(obs,exp))\n",
    "\"\"\"P-value close to 0, so we can reject the null hypothesis\"\"\""
   ]
  },
  {
   "cell_type": "markdown",
   "metadata": {},
   "source": [
    "## Question 4\n",
    "A quality control engineer takes a sample of 10 tires that come out of an assembly line, and would like to verify on the basis of the data that follows, if the number of tires with defects observed over 200 days, if it is true that 5% of all tires have defects (that is, if the sample comes from a binomial population with n = 10 and p = 0.05). \n",
    "\n",
    "![](table6.png)\n"
   ]
  },
  {
   "cell_type": "code",
   "execution_count": 7,
   "metadata": {},
   "outputs": [
    {
     "data": {
      "text/plain": [
       "'pvalue close to 1, suggests that it is true that 5% of all tyres have defects '"
      ]
     },
     "execution_count": 7,
     "metadata": {},
     "output_type": "execute_result"
    }
   ],
   "source": [
    "# define number of trials and probability \n",
    "n = 10\n",
    "p = 0.05\n",
    "obs_size = 200\n",
    "obs = np.array([138,53,9])/obs_size\n",
    "exp = np.array([stats.binom.pmf(x,n,p) for x in range(2)])\n",
    "exp = np.append(exp, 1-exp.sum())\n",
    "stats.chisquare(obs,exp)\n",
    "\"\"\"pvalue close to 1, suggests that it is true that 5% of all tyres have defects \"\"\""
   ]
  },
  {
   "cell_type": "markdown",
   "metadata": {},
   "source": [
    "## Question 5\n",
    "A researcher gathers information about the patterns of physical activity (AF) of children in the fifth grade of primary school of a public school. He defines three categories of physical activity (1 = Low, 2 = Medium, 3 = High). He also inquires about the regular consumption of sugary drinks at school, and defines two categories (1 = consumed, 0 = not consumed). We would like to evaluate if there is an association between patterns of physical activity and the consumption of sugary drinks for the children of this school, at a level of 5% significance. The results are in the following table: \n",
    "\n",
    "![](table5.png)"
   ]
  },
  {
   "cell_type": "code",
   "execution_count": 11,
   "metadata": {},
   "outputs": [
    {
     "name": "stdout",
     "output_type": "stream",
     "text": [
      "Chi-squared Statistic: 10.712198008709638\n",
      "Critical Value: 11.070497693516351\n"
     ]
    }
   ],
   "source": [
    "obs_size = 95\n",
    "obs = np.array([32,12,14,22,6,9])\n",
    "exp = [52*44/obs_size,43*44/obs_size,52*36/obs_size,43*36/obs_size,52*15/obs_size,43*15/obs_size] #we take the total number of those who drink sugary drinks, \n",
    "#multiply by the number of people in a certain activity level, the divide by total number of people\n",
    "chi_squared_statistic = ((obs - exp)**2/exp).sum()\n",
    "\n",
    "dof = len(exp) - 1\n",
    "alpha = 0.05\n",
    "critical_value=stats.chi2.ppf(q=1-alpha,df=dof)\n",
    "\n",
    "print('Chi-squared Statistic: {}'.format(chi_squared_statistic))\n",
    "print('Critical Value: {}'.format(critical_value))"
   ]
  }
 ],
 "metadata": {
  "kernelspec": {
   "display_name": "Python 3",
   "language": "python",
   "name": "python3"
  },
  "language_info": {
   "codemirror_mode": {
    "name": "ipython",
    "version": 3
   },
   "file_extension": ".py",
   "mimetype": "text/x-python",
   "name": "python",
   "nbconvert_exporter": "python",
   "pygments_lexer": "ipython3",
   "version": "3.7.3"
  }
 },
 "nbformat": 4,
 "nbformat_minor": 2
}
